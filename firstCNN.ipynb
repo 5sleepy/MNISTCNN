{
  "nbformat": 4,
  "nbformat_minor": 0,
  "metadata": {
    "colab": {
      "provenance": [],
      "gpuType": "T4",
      "authorship_tag": "ABX9TyOM+RKWDHd32NmS7D+DXwAy",
      "include_colab_link": true
    },
    "kernelspec": {
      "name": "python3",
      "display_name": "Python 3"
    },
    "language_info": {
      "name": "python"
    },
    "accelerator": "GPU"
  },
  "cells": [
    {
      "cell_type": "markdown",
      "metadata": {
        "id": "view-in-github",
        "colab_type": "text"
      },
      "source": [
        "<a href=\"https://colab.research.google.com/github/5sleepy/MNISTCNN/blob/main/firstCNN.ipynb\" target=\"_parent\"><img src=\"https://colab.research.google.com/assets/colab-badge.svg\" alt=\"Open In Colab\"/></a>"
      ]
    },
    {
      "cell_type": "code",
      "source": [
        "import torch\n",
        "import torch.nn as nn\n",
        "import torch.nn.functional as F\n",
        "import torch.optim as optim\n",
        "import torchvision\n",
        "import torchvision.transforms as transforms\n",
        "from torch.utils.data import DataLoader\n",
        "from torchvision.datasets import MNIST\n",
        "import matplotlib.pyplot as plt"
      ],
      "metadata": {
        "id": "nQbfrtAwOA0q"
      },
      "execution_count": 3,
      "outputs": []
    },
    {
      "cell_type": "code",
      "source": [
        "transform = transforms.Compose([\n",
        "    transforms.ToTensor(),\n",
        "    transforms.Normalize((0.5,), (0.5,))\n",
        "])\n",
        "\n",
        "train_set = MNIST(root=\"./data\", train=True, download=True, transform=transform)\n",
        "train_loader = DataLoader(train_set, batch_size = 64, shuffle=True)\n",
        "\n",
        "test_set = MNIST(root=\"./data\", train=False, download=True, transform=transform)\n",
        "test_loader = DataLoader(test_set, batch_size = 64, shuffle=False)"
      ],
      "metadata": {
        "colab": {
          "base_uri": "https://localhost:8080/"
        },
        "id": "fljluxczNFpa",
        "outputId": "d331019f-5fbb-43a3-b37c-265f68ef47b2"
      },
      "execution_count": 4,
      "outputs": [
        {
          "output_type": "stream",
          "name": "stdout",
          "text": [
            "Downloading http://yann.lecun.com/exdb/mnist/train-images-idx3-ubyte.gz\n",
            "Failed to download (trying next):\n",
            "HTTP Error 403: Forbidden\n",
            "\n",
            "Downloading https://ossci-datasets.s3.amazonaws.com/mnist/train-images-idx3-ubyte.gz\n",
            "Downloading https://ossci-datasets.s3.amazonaws.com/mnist/train-images-idx3-ubyte.gz to ./data/MNIST/raw/train-images-idx3-ubyte.gz\n"
          ]
        },
        {
          "output_type": "stream",
          "name": "stderr",
          "text": [
            "100%|██████████| 9912422/9912422 [00:00<00:00, 49234245.90it/s]\n"
          ]
        },
        {
          "output_type": "stream",
          "name": "stdout",
          "text": [
            "Extracting ./data/MNIST/raw/train-images-idx3-ubyte.gz to ./data/MNIST/raw\n",
            "\n",
            "Downloading http://yann.lecun.com/exdb/mnist/train-labels-idx1-ubyte.gz\n",
            "Failed to download (trying next):\n",
            "HTTP Error 403: Forbidden\n",
            "\n",
            "Downloading https://ossci-datasets.s3.amazonaws.com/mnist/train-labels-idx1-ubyte.gz\n",
            "Downloading https://ossci-datasets.s3.amazonaws.com/mnist/train-labels-idx1-ubyte.gz to ./data/MNIST/raw/train-labels-idx1-ubyte.gz\n"
          ]
        },
        {
          "output_type": "stream",
          "name": "stderr",
          "text": [
            "100%|██████████| 28881/28881 [00:00<00:00, 1709628.03it/s]"
          ]
        },
        {
          "output_type": "stream",
          "name": "stdout",
          "text": [
            "Extracting ./data/MNIST/raw/train-labels-idx1-ubyte.gz to ./data/MNIST/raw\n",
            "\n",
            "Downloading http://yann.lecun.com/exdb/mnist/t10k-images-idx3-ubyte.gz\n"
          ]
        },
        {
          "output_type": "stream",
          "name": "stderr",
          "text": [
            "\n"
          ]
        },
        {
          "output_type": "stream",
          "name": "stdout",
          "text": [
            "Failed to download (trying next):\n",
            "HTTP Error 403: Forbidden\n",
            "\n",
            "Downloading https://ossci-datasets.s3.amazonaws.com/mnist/t10k-images-idx3-ubyte.gz\n",
            "Downloading https://ossci-datasets.s3.amazonaws.com/mnist/t10k-images-idx3-ubyte.gz to ./data/MNIST/raw/t10k-images-idx3-ubyte.gz\n"
          ]
        },
        {
          "output_type": "stream",
          "name": "stderr",
          "text": [
            "100%|██████████| 1648877/1648877 [00:00<00:00, 4672006.23it/s]\n"
          ]
        },
        {
          "output_type": "stream",
          "name": "stdout",
          "text": [
            "Extracting ./data/MNIST/raw/t10k-images-idx3-ubyte.gz to ./data/MNIST/raw\n",
            "\n",
            "Downloading http://yann.lecun.com/exdb/mnist/t10k-labels-idx1-ubyte.gz\n",
            "Failed to download (trying next):\n",
            "HTTP Error 403: Forbidden\n",
            "\n",
            "Downloading https://ossci-datasets.s3.amazonaws.com/mnist/t10k-labels-idx1-ubyte.gz\n",
            "Downloading https://ossci-datasets.s3.amazonaws.com/mnist/t10k-labels-idx1-ubyte.gz to ./data/MNIST/raw/t10k-labels-idx1-ubyte.gz\n"
          ]
        },
        {
          "output_type": "stream",
          "name": "stderr",
          "text": [
            "100%|██████████| 4542/4542 [00:00<00:00, 10867386.63it/s]"
          ]
        },
        {
          "output_type": "stream",
          "name": "stdout",
          "text": [
            "Extracting ./data/MNIST/raw/t10k-labels-idx1-ubyte.gz to ./data/MNIST/raw\n",
            "\n"
          ]
        },
        {
          "output_type": "stream",
          "name": "stderr",
          "text": [
            "\n"
          ]
        }
      ]
    },
    {
      "cell_type": "code",
      "source": [
        "x, y = next(iter(train_loader))\n",
        "plt.imshow(x[0].squeeze())\n",
        "plt.show()\n",
        "print(y[0])"
      ],
      "metadata": {
        "colab": {
          "base_uri": "https://localhost:8080/",
          "height": 447
        },
        "id": "Qt_iVu0TB2Bf",
        "outputId": "5e43c765-9e78-46e3-996b-19ab20af787c"
      },
      "execution_count": 5,
      "outputs": [
        {
          "output_type": "display_data",
          "data": {
            "text/plain": [
              "<Figure size 640x480 with 1 Axes>"
            ],
            "image/png": "[encoded data removed]"
          },
          "metadata": {}
        },
        {
          "output_type": "stream",
          "name": "stdout",
          "text": [
            "tensor(2)\n"
          ]
        }
      ]
    },
    {
      "cell_type": "code",
      "source": [
        "# define CNN architecture\n",
        "\n",
        "class CNN(nn.Module):\n",
        "  # took AlexNet and VGGNet architecture into consideration while doing this, as they've been pretty important (LOL) to computer vision\n",
        "  # all CNNs i looked into generally had a large initial reduction of hxw, increasing channels instead\n",
        "  # i chose fewer conv layers due to the simplicity of the dataset and pooling was inspired by predecessor architectures with proven effectiveness\n",
        "  def __init__(self):\n",
        "    super(CNN, self).__init__()\n",
        "    self.conv1 = nn.Conv2d(1, 32, kernel_size=3, stride=1, padding=1) # 28x28x1 -> 28x28x32 -> 14x14x32 (pooling)\n",
        "    self.conv2 = nn.Conv2d(32, 64, kernel_size=3, stride=1, padding=1) # 14x14x32 -> 14x14x64 -> 7x7x64 (pooling)\n",
        "    self.pool = nn.MaxPool2d(kernel_size=2, stride=2)\n",
        "    self.fc1 = nn.Linear(7*7*64, 120)\n",
        "    self.out = nn.Linear(120, 10)\n",
        "\n",
        "  # considered including some form of dropout in the model, but ultimately decided it wasn't necessary due to the cleanliness of the data and small size\n",
        "\n",
        "  def forward(self, x):\n",
        "    x = self.pool(F.relu(self.conv1(x)))\n",
        "    x = self.pool(F.relu(self.conv2(x)))\n",
        "    x = x.view(-1, 7*7*64) # flatten\n",
        "    x = F.relu(self.fc1(x))\n",
        "    x = self.out(x)\n",
        "    return x\n"
      ],
      "metadata": {
        "id": "NyktkgxytUXG"
      },
      "execution_count": 6,
      "outputs": []
    },
    {
      "cell_type": "code",
      "source": [
        "model = CNN()\n",
        "criterion = nn.CrossEntropyLoss() # classification => cross entropy loss\n",
        "optimizer = optim.Adam(model.parameters(), lr=0.01) # implements ADAM optimization algorithm\n"
      ],
      "metadata": {
        "id": "3NfipAxkxXL_"
      },
      "execution_count": 7,
      "outputs": []
    },
    {
      "cell_type": "code",
      "source": [
        "# train model\n",
        "losses = []\n",
        "validation = []\n",
        "train = []\n",
        "epochs = 10\n",
        "\n",
        "for epoch in range(epochs):\n",
        "  model.train()\n",
        "  correct_train=0\n",
        "  total_train=0\n",
        "  for batch, (X_batch, y_batch) in enumerate(train_loader):\n",
        "    batch += 1\n",
        "    optimizer.zero_grad()\n",
        "    output = model(X_batch)\n",
        "    loss = criterion(output, y_batch)\n",
        "    loss.backward()\n",
        "    optimizer.step()\n",
        "\n",
        "    _, predicted = torch.max(output, 1)\n",
        "    total_train += y_batch.size(0)\n",
        "    correct_train += (predicted == y_batch).sum().item()\n",
        "\n",
        "\n",
        "    if batch % 300 == 0:\n",
        "      #print(f\"Epoch: {epoch+1}, Batch: {batch}, Loss: {loss.item()}\")\n",
        "      losses.append(loss.item())\n",
        "\n",
        "      checkpoint = {\n",
        "          \"epoch\": epoch+1,\n",
        "          \"batch\": batch,\n",
        "          \"model_state_dict\": model.state_dict(),\n",
        "          \"optimizer_state_dict\": optimizer.state_dict(),\n",
        "          \"loss\": loss\n",
        "      }\n",
        "\n",
        "      torch.save(checkpoint, \"checkpoint.pth\")\n",
        "  train.append(correct_train/total_train)\n",
        "\n",
        "  correct = 0\n",
        "  total = 0\n",
        "  model.eval()\n",
        "  with torch.no_grad():\n",
        "    for X_batch, y_batch in test_loader:\n",
        "      output = model(X_batch)\n",
        "      _, predicted = torch.max(output, 1)\n",
        "      total += y_batch.size(0)\n",
        "      correct += (predicted == y_batch).sum().item()\n",
        "\n",
        "    accuracy = correct/total\n",
        "    validation.append(accuracy)\n",
        "  print(f\"Epoch: {epoch+1}, Accuracy: {accuracy}, Loss: {loss.item()}\")\n"
      ],
      "metadata": {
        "colab": {
          "base_uri": "https://localhost:8080/"
        },
        "id": "MtWm2Vpg85Oj",
        "outputId": "e1b939d8-6651-410a-af0f-afb0417cd77e"
      },
      "execution_count": 8,
      "outputs": [
        {
          "output_type": "stream",
          "name": "stdout",
          "text": [
            "Epoch: 1, Accuracy: 0.9758, Loss: 0.27606308460235596\n",
            "Epoch: 2, Accuracy: 0.975, Loss: 0.12688042223453522\n",
            "Epoch: 3, Accuracy: 0.9787, Loss: 0.1256529986858368\n",
            "Epoch: 4, Accuracy: 0.9792, Loss: 0.09642090648412704\n",
            "Epoch: 5, Accuracy: 0.9778, Loss: 0.0033967134077101946\n",
            "Epoch: 6, Accuracy: 0.9753, Loss: 0.03801531344652176\n",
            "Epoch: 7, Accuracy: 0.9757, Loss: 0.0063976929523050785\n",
            "Epoch: 8, Accuracy: 0.981, Loss: 0.0038409316912293434\n",
            "Epoch: 9, Accuracy: 0.9816, Loss: 0.007204921450465918\n",
            "Epoch: 10, Accuracy: 0.981, Loss: 0.001333018415607512\n"
          ]
        }
      ]
    },
    {
      "cell_type": "code",
      "source": [
        "plt.plot([i/3 for i in range(1,31)], losses)\n",
        "plt.grid(True)\n",
        "plt.show()"
      ],
      "metadata": {
        "colab": {
          "base_uri": "https://localhost:8080/",
          "height": 430
        },
        "id": "e6PEPoVzDsW0",
        "outputId": "b23696b4-a03e-4cb2-859c-3cb417828d42"
      },
      "execution_count": 15,
      "outputs": [
        {
          "output_type": "display_data",
          "data": {
            "text/plain": [
              "<Figure size 640x480 with 1 Axes>"
            ],
            "image/png": "[encoded data removed]"
          },
          "metadata": {}
        }
      ]
    }
  ]
}